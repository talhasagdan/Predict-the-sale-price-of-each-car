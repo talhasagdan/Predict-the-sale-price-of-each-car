{
 "cells": [
  {
   "cell_type": "code",
   "execution_count": 132,
   "metadata": {
    "ExecuteTime": {
     "end_time": "2019-11-22T21:10:19.201922Z",
     "start_time": "2019-11-22T21:10:17.698759Z"
    }
   },
   "outputs": [],
   "source": [
    "import pandas as pd\n",
    "from sklearn.model_selection import train_test_split\n",
    "from sklearn.preprocessing import StandardScaler\n",
    "\n",
    "from sklearn.neighbors import KNeighborsClassifier\n",
    "from sklearn.model_selection import cross_val_score\n",
    "from sklearn.metrics import mean_squared_error\n",
    "\n",
    "from sklearn import preprocessing"
   ]
  },
  {
   "cell_type": "markdown",
   "metadata": {},
   "source": [
    "## KNN REGGRESSOR TO PREDICT CAR PRICES "
   ]
  },
  {
   "cell_type": "markdown",
   "metadata": {},
   "source": [
    "We are going to train a KNN Regression model that predicts\n",
    "the prices of cars by using the other features in the dataset."
   ]
  },
  {
   "cell_type": "markdown",
   "metadata": {},
   "source": [
    "### a) Training Vs Validation Plot:"
   ]
  },
  {
   "cell_type": "markdown",
   "metadata": {},
   "source": [
    "Split training dataset (train_x_e and train_y) into a validation and new training set ( 80% training and 20% validation , use random_state = 0 with sklearn’s train_test_split).\n",
    "\n",
    "For every integer value k between 1 and 30 create and record a KNN Regression model’s training and validation MSEs where the KNN model’s number of neighbours is k. \n",
    "\n",
    "Produce a plot that visualizes both your training and validation errors over the differing values of k: where the y-axis is the error and the x-axis is k."
   ]
  },
  {
   "cell_type": "code",
   "execution_count": 133,
   "metadata": {},
   "outputs": [],
   "source": [
    "#data train\n",
    "train_x_a = pd.read_csv(\"training.csv\")\n",
    "train_y = pd.read_csv(\"training.csv\")[\"price\"]\n",
    "nan_columns = train_x_a.columns[train_x_a.isna().any()].tolist()\n",
    "train_x_a=train_x_a.dropna(subset=['price'])\n",
    "train_y=train_y.dropna()\n",
    "train_x_b = train_x_a.fillna(train_x_a.median())\n",
    "dt = train_x_a.dtypes.to_dict()\n",
    "categorical_columns = [col for col,typ in dt.items() if typ==\"O\"]\n",
    "train_x_d = pd.get_dummies(train_x_b)\n",
    "sd = StandardScaler().fit(train_x_d.values).transform(train_x_d.values)\n",
    "train_x_e = pd.DataFrame(sd, index=train_x_d.index, columns=train_x_d.columns)\n",
    "\n",
    "#data test\n",
    "\n",
    "test_x = pd.read_csv(\"test.csv\").dropna(subset=['price']).fillna(train_x_a.median())\n",
    "test_y = pd.read_csv(\"test.csv\")['price']\n",
    "test_y=test_y.dropna()\n",
    "\n",
    "test_x = pd.get_dummies(test_x)\n",
    "sd = StandardScaler().fit(test_x.values).transform(test_x.values)\n",
    "test_x = pd.DataFrame(sd, index=test_x.index, columns=test_x.columns)\n",
    "train_split_x, val_split_x, train_split_y, val_split_y = train_test_split(train_x_e, train_y, test_size=0.2, random_state=0)\n",
    "\n",
    "knn_training_errors = []\n",
    "knn_validation_error = []\n",
    "k_value = []\n",
    "\n",
    "#changing as types int\n",
    "train_split_x = train_split_x.astype(int)\n",
    "train_split_y = train_split_y.astype(int)\n",
    "\n",
    "val_split_x = val_split_x.astype(int)\n",
    "val_split_y = val_split_y.astype(int)\n",
    "\n",
    "\n",
    "    "
   ]
  },
  {
   "cell_type": "code",
   "execution_count": 134,
   "metadata": {},
   "outputs": [],
   "source": [
    "\n",
    "from sklearn.metrics import accuracy_score \n",
    "# 1,2,3.....30\n",
    "k_range=range(1,31) \n",
    "knn_training_errors = []\n",
    "knn_validation_errors = []\n",
    "knn_accuracy=[] # for selecting best knn\n",
    "\n",
    "for k in k_range:\n",
    "    knn = KNeighborsClassifier(n_neighbors = k).fit(train_split_x,train_split_y)\n",
    "    mse = mean_squared_error(train_split_y, knn.predict(train_split_x))\n",
    "    \n",
    "    knn_val = KNeighborsClassifier(n_neighbors = k).fit(val_split_x,val_split_y)\n",
    "    mse_val = mean_squared_error(val_split_y, knn.predict(val_split_x))\n",
    "    \n",
    "    knn_training_errors.append(mse)\n",
    "    knn_validation_errors.append(mse_val)\n",
    "    \n",
    "    knn_accuracy.append(accuracy_score(train_split_y, knn.predict(train_split_x)))\n"
   ]
  },
  {
   "cell_type": "code",
   "execution_count": 135,
   "metadata": {},
   "outputs": [
    {
     "data": {
      "image/png": "[encoded data removed]",
      "text/plain": [
       "<Figure size 432x288 with 1 Axes>"
      ]
     },
     "metadata": {
      "needs_background": "light"
     },
     "output_type": "display_data"
    }
   ],
   "source": [
    "# training vs validation plot\n",
    "import matplotlib.pyplot as plt\n",
    "#train error red , val error blue\n",
    "plt.plot(k_range,knn_training_errors, 'r--',  k_range, knn_validation_errors,'b--')\n",
    "plt.show()"
   ]
  },
  {
   "cell_type": "markdown",
   "metadata": {},
   "source": [
    "### b) Test your model:"
   ]
  },
  {
   "cell_type": "markdown",
   "metadata": {},
   "source": [
    "For the best k , re-create best model as best_knn and report it’s test MSE on the test set."
   ]
  },
  {
   "cell_type": "code",
   "execution_count": 136,
   "metadata": {
    "ExecuteTime": {
     "end_time": "2019-12-13T17:59:49.282500Z",
     "start_time": "2019-12-13T17:59:49.277513Z"
    }
   },
   "outputs": [
    {
     "name": "stdout",
     "output_type": "stream",
     "text": [
      "0\n"
     ]
    }
   ],
   "source": [
    "min_train=knn_accuracy.index(max(knn_accuracy))\n",
    "print(min_train) #we use index so our value should be 0+1 =1 \n",
    "best_knn = KNeighborsClassifier(n_neighbors=1).fit(train_x_e.astype(int), train_y.astype(int))"
   ]
  },
  {
   "cell_type": "code",
   "execution_count": 137,
   "metadata": {},
   "outputs": [],
   "source": [
    "knn_preds = best_knn.predict(test_x) #prediction"
   ]
  },
  {
   "cell_type": "code",
   "execution_count": 138,
   "metadata": {},
   "outputs": [
    {
     "name": "stdout",
     "output_type": "stream",
     "text": [
      "38916456.15625\n"
     ]
    }
   ],
   "source": [
    "knn_mse = mean_squared_error(test_y, knn_preds) #mse\n",
    "print(knn_mse)"
   ]
  },
  {
   "cell_type": "markdown",
   "metadata": {},
   "source": [
    "## DECISION TREE REGRESSOR TO PREDICT CAR PRICES"
   ]
  },
  {
   "cell_type": "markdown",
   "metadata": {},
   "source": [
    "Train a Decision Tree Regression model that predicts the prices of cars by using the other features in the dataset. \n",
    "\n",
    "When asked to retrieve the MSE score from GridSearchCV, set the scoring option to ‘neg_mean_square_error’. This will return a negative error. \n",
    "\n",
    "To obtain MSE, get the absolute value."
   ]
  },
  {
   "cell_type": "markdown",
   "metadata": {},
   "source": [
    "### c) Grid Search to find best model:"
   ]
  },
  {
   "attachments": {},
   "cell_type": "markdown",
   "metadata": {},
   "source": [
    "As decision trees have large hyper parameter sets, we will be using gridsearch to find the best combinations. Using the below parameters, run GridSearchCV (cv = 5) with a Decision Tree model on train_x_e and train_y. \n",
    "\n",
    "Print out the best model’s parameters and error. Set random_state to 0.!![Screenshot_1](https://user-images.githubusercontent.com/43733194/76402669-cc2c8200-6394-11ea-8f02-4f2e410f348f.png)\n"
   ]
  },
  {
   "cell_type": "code",
   "execution_count": 139,
   "metadata": {},
   "outputs": [],
   "source": [
    "from sklearn.model_selection import GridSearchCV\n",
    "from sklearn.tree import DecisionTreeRegressor\n",
    "from sklearn.metrics import SCORERS\n",
    "#decision tree regressor\n",
    "model_dt=DecisionTreeRegressor(random_state=0)\n",
    "params = [{'max_depth':[None, 1, 5, 10], 'min_samples_split':[0.01, 0.05, 0.1, 0.3],\n",
    "          'max_features': ['auto', 'sqrt', 'log2'], 'max_leaf_nodes':[10, 50, 100, 250]}]\n",
    "#gridsearch cv\n",
    "decision_tree_grid = GridSearchCV(model_dt, param_grid = params, cv=5, scoring = 'neg_mean_squared_error')"
   ]
  },
  {
   "cell_type": "code",
   "execution_count": 140,
   "metadata": {},
   "outputs": [
    {
     "data": {
      "text/plain": [
       "GridSearchCV(cv=5, error_score=nan,\n",
       "             estimator=DecisionTreeRegressor(ccp_alpha=0.0, criterion='mse',\n",
       "                                             max_depth=None, max_features=None,\n",
       "                                             max_leaf_nodes=None,\n",
       "                                             min_impurity_decrease=0.0,\n",
       "                                             min_impurity_split=None,\n",
       "                                             min_samples_leaf=1,\n",
       "                                             min_samples_split=2,\n",
       "                                             min_weight_fraction_leaf=0.0,\n",
       "                                             presort='deprecated',\n",
       "                                             random_state=0, splitter='best'),\n",
       "             iid='deprecated', n_jobs=None,\n",
       "             param_grid=[{'max_depth': [None, 1, 5, 10],\n",
       "                          'max_features': ['auto', 'sqrt', 'log2'],\n",
       "                          'max_leaf_nodes': [10, 50, 100, 250],\n",
       "                          'min_samples_split': [0.01, 0.05, 0.1, 0.3]}],\n",
       "             pre_dispatch='2*n_jobs', refit=True, return_train_score=False,\n",
       "             scoring='neg_mean_squared_error', verbose=0)"
      ]
     },
     "execution_count": 140,
     "metadata": {},
     "output_type": "execute_result"
    }
   ],
   "source": [
    "#fitting\n",
    "decision_tree_grid.fit(train_x_e.astype(float), train_y.astype(float))"
   ]
  },
  {
   "cell_type": "markdown",
   "metadata": {},
   "source": [
    "### d) Test your model:"
   ]
  },
  {
   "cell_type": "markdown",
   "metadata": {},
   "source": [
    "Recreate best Decision Tree model from (c) as best_tree and report it’s test MSE on the test set."
   ]
  },
  {
   "cell_type": "code",
   "execution_count": 141,
   "metadata": {},
   "outputs": [
    {
     "data": {
      "text/plain": [
       "{'max_depth': 5,\n",
       " 'max_features': 'auto',\n",
       " 'max_leaf_nodes': 50,\n",
       " 'min_samples_split': 0.01}"
      ]
     },
     "execution_count": 141,
     "metadata": {},
     "output_type": "execute_result"
    }
   ],
   "source": [
    "#finding best parameters\n",
    "best_params = decision_tree_grid.best_params_\n",
    "best_params"
   ]
  },
  {
   "cell_type": "code",
   "execution_count": 142,
   "metadata": {},
   "outputs": [
    {
     "data": {
      "text/plain": [
       "DecisionTreeRegressor(ccp_alpha=0.0, criterion='mse', max_depth=5,\n",
       "                      max_features='auto', max_leaf_nodes=50,\n",
       "                      min_impurity_decrease=0.0, min_impurity_split=None,\n",
       "                      min_samples_leaf=1, min_samples_split=0.01,\n",
       "                      min_weight_fraction_leaf=0.0, presort='deprecated',\n",
       "                      random_state=None, splitter='best')"
      ]
     },
     "execution_count": 142,
     "metadata": {},
     "output_type": "execute_result"
    }
   ],
   "source": [
    "#dtr with best parameters\n",
    "best_tree=DecisionTreeRegressor(max_depth=5,max_features='auto',max_leaf_nodes=50,min_samples_split=0.01)\n",
    "best_tree.fit(train_x_e.astype(float), train_y.astype(float))\n"
   ]
  },
  {
   "cell_type": "code",
   "execution_count": 143,
   "metadata": {},
   "outputs": [],
   "source": [
    "tree_preds =best_tree.predict(test_x)"
   ]
  },
  {
   "cell_type": "code",
   "execution_count": 144,
   "metadata": {},
   "outputs": [
    {
     "name": "stdout",
     "output_type": "stream",
     "text": [
      "9010526.495798063\n"
     ]
    }
   ],
   "source": [
    "tree_mse = mean_squared_error(test_y,tree_preds)\n",
    "print(tree_mse)"
   ]
  },
  {
   "cell_type": "markdown",
   "metadata": {},
   "source": [
    "## ENSEMBLE BAGGING REGRESSOR TO PREDICT CAR PRICES"
   ]
  },
  {
   "cell_type": "markdown",
   "metadata": {},
   "source": [
    "Train a bagging ensemble model that predicts the prices of cars by using the other features in the dataset. When asked to retrieve the MSE score from GridSearchCV, set the scoring option to ‘neg_mean_square_error’. This will\n",
    "return a negative error. To obtain MSE, get the absolute value."
   ]
  },
  {
   "cell_type": "markdown",
   "metadata": {},
   "source": [
    "### e) Grid Search to find best model:"
   ]
  },
  {
   "attachments": {},
   "cell_type": "markdown",
   "metadata": {},
   "source": [
    "Using the below parameters, run GridSearchCV (cv = 5) on train_x_e and train_y. Print out the best model’s parameters and error. Set random_state to 0.\n",
    "![Screenshot_2](https://user-images.githubusercontent.com/43733194/76402764-e9615080-6394-11ea-831e-9d0d4a750572.png)"
   ]
  },
  {
   "cell_type": "code",
   "execution_count": 145,
   "metadata": {
    "ExecuteTime": {
     "end_time": "2019-12-13T18:09:52.935086Z",
     "start_time": "2019-12-13T18:09:52.931109Z"
    }
   },
   "outputs": [],
   "source": [
    "from sklearn.ensemble import BaggingRegressor\n",
    "from sklearn.linear_model import LinearRegression\n",
    "from sklearn.neighbors import KNeighborsRegressor\n",
    "#bagging \n",
    "model_bag = BaggingRegressor(random_state=0)\n",
    "params=[{'base_estimator':[LinearRegression(),KNeighborsRegressor(), DecisionTreeRegressor(random_state=0)], 'n_estimators':[25, 50, 100, 250],'bootstrap_features': [False, True], 'random_state':[0]}]\n",
    "bag_grid = GridSearchCV(model_bag, param_grid = params, cv=5, scoring = 'neg_mean_squared_error')"
   ]
  },
  {
   "cell_type": "code",
   "execution_count": 146,
   "metadata": {},
   "outputs": [
    {
     "data": {
      "text/plain": [
       "GridSearchCV(cv=5, error_score=nan,\n",
       "             estimator=BaggingRegressor(base_estimator=None, bootstrap=True,\n",
       "                                        bootstrap_features=False,\n",
       "                                        max_features=1.0, max_samples=1.0,\n",
       "                                        n_estimators=10, n_jobs=None,\n",
       "                                        oob_score=False, random_state=0,\n",
       "                                        verbose=0, warm_start=False),\n",
       "             iid='deprecated', n_jobs=None,\n",
       "             param_grid=[{'base_estimator': [LinearRegression(copy_X=True,\n",
       "                                                              fit_intercept=True,\n",
       "                                                              n...\n",
       "                                                                   min_impurity_decrease=0.0,\n",
       "                                                                   min_impurity_split=None,\n",
       "                                                                   min_samples_leaf=1,\n",
       "                                                                   min_samples_split=2,\n",
       "                                                                   min_weight_fraction_leaf=0.0,\n",
       "                                                                   presort='deprecated',\n",
       "                                                                   random_state=0,\n",
       "                                                                   splitter='best')],\n",
       "                          'bootstrap_features': [False, True],\n",
       "                          'n_estimators': [25, 50, 100, 250],\n",
       "                          'random_state': [0]}],\n",
       "             pre_dispatch='2*n_jobs', refit=True, return_train_score=False,\n",
       "             scoring='neg_mean_squared_error', verbose=0)"
      ]
     },
     "execution_count": 146,
     "metadata": {},
     "output_type": "execute_result"
    }
   ],
   "source": [
    "bag_grid.fit(train_x_e.astype(float), train_y.astype(float))"
   ]
  },
  {
   "cell_type": "markdown",
   "metadata": {},
   "source": [
    "### f) Test your model:"
   ]
  },
  {
   "cell_type": "markdown",
   "metadata": {},
   "source": [
    "Recreatation best Ensemble Bagging model from (e) as best_bag and report it’s test MSE on the test set."
   ]
  },
  {
   "cell_type": "code",
   "execution_count": 153,
   "metadata": {},
   "outputs": [
    {
     "data": {
      "text/plain": [
       "{'base_estimator': LinearRegression(copy_X=True, fit_intercept=True, n_jobs=None, normalize=False),\n",
       " 'bootstrap_features': False,\n",
       " 'n_estimators': 25,\n",
       " 'random_state': 0}"
      ]
     },
     "execution_count": 153,
     "metadata": {},
     "output_type": "execute_result"
    }
   ],
   "source": [
    "#best parameters for bagging\n",
    "best_bag = bag_grid.best_params_\n",
    "best_bag"
   ]
  },
  {
   "cell_type": "code",
   "execution_count": 154,
   "metadata": {},
   "outputs": [
    {
     "data": {
      "text/plain": [
       "BaggingRegressor(base_estimator=LinearRegression(copy_X=True,\n",
       "                                                 fit_intercept=True,\n",
       "                                                 n_jobs=None, normalize=False),\n",
       "                 bootstrap=True, bootstrap_features=False, max_features=1.0,\n",
       "                 max_samples=1.0, n_estimators=25, n_jobs=None, oob_score=False,\n",
       "                 random_state=0, verbose=0, warm_start=False)"
      ]
     },
     "execution_count": 154,
     "metadata": {},
     "output_type": "execute_result"
    }
   ],
   "source": [
    "bag= BaggingRegressor(base_estimator= LinearRegression(copy_X=True, fit_intercept=True, n_jobs=None, normalize=False), bootstrap_features= False,n_estimators= 25,random_state= 0)\n",
    "bag.fit(train_x_e.astype(float), train_y.astype(float))"
   ]
  },
  {
   "cell_type": "code",
   "execution_count": 156,
   "metadata": {},
   "outputs": [],
   "source": [
    "bag_preds=bag.predict(test_x)"
   ]
  },
  {
   "cell_type": "code",
   "execution_count": 158,
   "metadata": {},
   "outputs": [
    {
     "name": "stdout",
     "output_type": "stream",
     "text": [
      "7765432.069576001\n"
     ]
    }
   ],
   "source": [
    "bag_mse = mean_squared_error(test_y,bag_preds)\n",
    "print(bag_mse)"
   ]
  },
  {
   "cell_type": "markdown",
   "metadata": {},
   "source": [
    "## RANDOM FOREST REGRESSOR TO PREDICT CAR PRICES"
   ]
  },
  {
   "cell_type": "markdown",
   "metadata": {},
   "source": [
    "Train a random forest model that predicts the prices of cars by using the other features in the dataset. When asked to retrieve the MSE score from GridSearchCV, set the scoring option to ‘neg_mean_square_error’. This will return a negative error. To obtain MSE, get the absolute value."
   ]
  },
  {
   "cell_type": "markdown",
   "metadata": {},
   "source": [
    "### g) Grid Search to find best model:"
   ]
  },
  {
   "attachments": {},
   "cell_type": "markdown",
   "metadata": {},
   "source": [
    "Using the below parameters, run GridSearchCV (cv = 5) with a Random Forest model on train_x_e and train_y. \n",
    "Print out the best model’s parameters and error. Make sure you set random_state to 0.\n",
    "![Screenshot_3](https://user-images.githubusercontent.com/43733194/76402801-faaa5d00-6394-11ea-853e-8b94652b99df.png)"
   ]
  },
  {
   "cell_type": "code",
   "execution_count": 159,
   "metadata": {},
   "outputs": [],
   "source": [
    "from sklearn.ensemble import RandomForestRegressor\n",
    "#random forest regressor\n",
    "model_rf = RandomForestRegressor(random_state=0)\n",
    "params=[{'n_estimators':[25, 50, 100, 250],'max_depth':[None, 1, 5, 10],'random_state':[0]}]\n",
    "random_forest_grid = GridSearchCV(model_rf, param_grid = params, cv=5, scoring = 'neg_mean_squared_error')"
   ]
  },
  {
   "cell_type": "code",
   "execution_count": 160,
   "metadata": {},
   "outputs": [
    {
     "data": {
      "text/plain": [
       "GridSearchCV(cv=5, error_score=nan,\n",
       "             estimator=RandomForestRegressor(bootstrap=True, ccp_alpha=0.0,\n",
       "                                             criterion='mse', max_depth=None,\n",
       "                                             max_features='auto',\n",
       "                                             max_leaf_nodes=None,\n",
       "                                             max_samples=None,\n",
       "                                             min_impurity_decrease=0.0,\n",
       "                                             min_impurity_split=None,\n",
       "                                             min_samples_leaf=1,\n",
       "                                             min_samples_split=2,\n",
       "                                             min_weight_fraction_leaf=0.0,\n",
       "                                             n_estimators=100, n_jobs=None,\n",
       "                                             oob_score=False, random_state=0,\n",
       "                                             verbose=0, warm_start=False),\n",
       "             iid='deprecated', n_jobs=None,\n",
       "             param_grid=[{'max_depth': [None, 1, 5, 10],\n",
       "                          'n_estimators': [25, 50, 100, 250],\n",
       "                          'random_state': [0]}],\n",
       "             pre_dispatch='2*n_jobs', refit=True, return_train_score=False,\n",
       "             scoring='neg_mean_squared_error', verbose=0)"
      ]
     },
     "execution_count": 160,
     "metadata": {},
     "output_type": "execute_result"
    }
   ],
   "source": [
    "random_forest_grid.fit(train_x_e.astype(float), train_y.astype(float))"
   ]
  },
  {
   "cell_type": "markdown",
   "metadata": {},
   "source": [
    "### h) Test your model:"
   ]
  },
  {
   "cell_type": "markdown",
   "metadata": {},
   "source": [
    "Recreation best Random Forest model from (g) as best_rf and report it’s test MSE on the test set."
   ]
  },
  {
   "cell_type": "code",
   "execution_count": 168,
   "metadata": {},
   "outputs": [
    {
     "data": {
      "text/plain": [
       "{'max_depth': 10, 'n_estimators': 25, 'random_state': 0}"
      ]
     },
     "execution_count": 168,
     "metadata": {},
     "output_type": "execute_result"
    }
   ],
   "source": [
    "#best parameters for random forest and implementation and testing\n",
    "best_random_forest =random_forest_grid.best_params_\n",
    "best_random_forest"
   ]
  },
  {
   "cell_type": "code",
   "execution_count": 169,
   "metadata": {},
   "outputs": [],
   "source": [
    "random_forest= RandomForestRegressor(max_depth=10,n_estimators=25,random_state=0)\n",
    "random_forest.fit(train_x_e.astype(float), train_y.astype(float))\n",
    "random_forest_preds = random_forest.predict(test_x)"
   ]
  },
  {
   "cell_type": "code",
   "execution_count": 170,
   "metadata": {},
   "outputs": [
    {
     "name": "stdout",
     "output_type": "stream",
     "text": [
      "9886772.891106403\n"
     ]
    }
   ],
   "source": [
    "random_forest_mse = mean_squared_error(test_y,random_forest_preds)\n",
    "print(random_forest_mse)"
   ]
  },
  {
   "cell_type": "markdown",
   "metadata": {},
   "source": [
    "### i) Feature Importances:"
   ]
  },
  {
   "cell_type": "markdown",
   "metadata": {},
   "source": [
    "Print out the three most important features according to  best model."
   ]
  },
  {
   "cell_type": "code",
   "execution_count": 219,
   "metadata": {},
   "outputs": [
    {
     "name": "stdout",
     "output_type": "stream",
     "text": [
      "[(0.9183958498486164, 'price'), (0.0436928363341638, 'enginesize'), (0.02821626915417207, 'horsepower')]\n"
     ]
    }
   ],
   "source": [
    "#columns name list\n",
    "cols=list(train_x_e.columns.values)\n",
    "\n",
    "#with heapq library find best 3 feature with using feature_importances func\n",
    "import heapq\n",
    "top_3_rf_features=heapq.nlargest(3, zip(random_forest.feature_importances_,cols))\n",
    "print(top_3_rf_features)\n"
   ]
  }
 ],
 "metadata": {
  "kernelspec": {
   "display_name": "Python 3",
   "language": "python",
   "name": "python3"
  },
  "language_info": {
   "codemirror_mode": {
    "name": "ipython",
    "version": 3
   },
   "file_extension": ".py",
   "mimetype": "text/x-python",
   "name": "python",
   "nbconvert_exporter": "python",
   "pygments_lexer": "ipython3",
   "version": "3.7.4"
  },
  "toc": {
   "base_numbering": 1,
   "nav_menu": {},
   "number_sections": false,
   "sideBar": true,
   "skip_h1_title": false,
   "title_cell": "Table of Contents",
   "title_sidebar": "Contents",
   "toc_cell": false,
   "toc_position": {
    "height": "calc(100% - 180px)",
    "left": "10px",
    "top": "150px",
    "width": "284.444px"
   },
   "toc_section_display": true,
   "toc_window_display": false
  },
  "varInspector": {
   "cols": {
    "lenName": 16,
    "lenType": 16,
    "lenVar": 40
   },
   "kernels_config": {
    "python": {
     "delete_cmd_postfix": "",
     "delete_cmd_prefix": "del ",
     "library": "var_list.py",
     "varRefreshCmd": "print(var_dic_list())"
    },
    "r": {
     "delete_cmd_postfix": ") ",
     "delete_cmd_prefix": "rm(",
     "library": "var_list.r",
     "varRefreshCmd": "cat(var_dic_list()) "
    }
   },
   "types_to_exclude": [
    "module",
    "function",
    "builtin_function_or_method",
    "instance",
    "_Feature"
   ],
   "window_display": false
  }
 },
 "nbformat": 4,
 "nbformat_minor": 2
}
